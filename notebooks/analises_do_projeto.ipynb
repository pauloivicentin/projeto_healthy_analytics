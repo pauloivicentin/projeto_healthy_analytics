{
 "cells": [
  {
   "cell_type": "code",
   "execution_count": 3,
   "id": "d5a9cadd",
   "metadata": {},
   "outputs": [],
   "source": [
    "import pandas as pd"
   ]
  },
  {
   "cell_type": "markdown",
   "id": "c87f3d04",
   "metadata": {},
   "source": [
    "### Entendimento do Negócio e contexto\n",
    "\n",
    "Este projeto analisa os fatores que influenciam o custo do plano de saúde corporativo de uma empresa do setor alimentício com mais de 20 mil colaboradores no Brasil.\n",
    "\n",
    "A pesquisa foi conduzida com 1.338 colaboradores selecionados aleatoriamente e contém informações sobre índice de massa corporal (IMC), hábito de fumar e quantidade de filhos.\n",
    "\n",
    "A análise segue a metodologia CRISP-DM, aplicando técnicas de análise exploratória, associação e regressão linear para compreender quais fatores estão mais relacionados ao aumento do custo do plano e propor ações preventivas.\n"
   ]
  },
  {
   "cell_type": "markdown",
   "id": "5824b955",
   "metadata": {},
   "source": [
    "### Objetivo\n",
    "\n",
    "Quais fatores estão mais relacionados com o custo do plano de saúde?\n",
    "\n",
    "Que ações preventivas podem ser implementadas para reduzir esse custo?"
   ]
  },
  {
   "cell_type": "markdown",
   "id": "094e5405",
   "metadata": {},
   "source": [
    "## Entendimento dos dados"
   ]
  },
  {
   "cell_type": "markdown",
   "id": "27e6713e",
   "metadata": {},
   "source": [
    "### Descrição dos dados"
   ]
  },
  {
   "cell_type": "code",
   "execution_count": 5,
   "id": "c0fd7a88",
   "metadata": {},
   "outputs": [],
   "source": [
    "# importando dados do arquivo excel\n",
    "df = pd.read_excel('../data/base_plano_de_saude.xlsx', sheet_name= 'base')"
   ]
  },
  {
   "cell_type": "code",
   "execution_count": 14,
   "id": "36eb007e",
   "metadata": {},
   "outputs": [
    {
     "data": {
      "text/html": [
       "<div>\n",
       "<style scoped>\n",
       "    .dataframe tbody tr th:only-of-type {\n",
       "        vertical-align: middle;\n",
       "    }\n",
       "\n",
       "    .dataframe tbody tr th {\n",
       "        vertical-align: top;\n",
       "    }\n",
       "\n",
       "    .dataframe thead th {\n",
       "        text-align: right;\n",
       "    }\n",
       "</style>\n",
       "<table border=\"1\" class=\"dataframe\">\n",
       "  <thead>\n",
       "    <tr style=\"text-align: right;\">\n",
       "      <th></th>\n",
       "      <th>Idade</th>\n",
       "      <th>Sexo</th>\n",
       "      <th>IMC</th>\n",
       "      <th>Qte_Filhos</th>\n",
       "      <th>Fumante</th>\n",
       "      <th>Região</th>\n",
       "      <th>Custo_Saude</th>\n",
       "    </tr>\n",
       "  </thead>\n",
       "  <tbody>\n",
       "    <tr>\n",
       "      <th>0</th>\n",
       "      <td>19</td>\n",
       "      <td>Feminino</td>\n",
       "      <td>27.900</td>\n",
       "      <td>0</td>\n",
       "      <td>Sim</td>\n",
       "      <td>Centro</td>\n",
       "      <td>1688.492400</td>\n",
       "    </tr>\n",
       "    <tr>\n",
       "      <th>1</th>\n",
       "      <td>18</td>\n",
       "      <td>Masculino</td>\n",
       "      <td>33.770</td>\n",
       "      <td>1</td>\n",
       "      <td>Não</td>\n",
       "      <td>Sudeste</td>\n",
       "      <td>172.555230</td>\n",
       "    </tr>\n",
       "    <tr>\n",
       "      <th>2</th>\n",
       "      <td>28</td>\n",
       "      <td>Masculino</td>\n",
       "      <td>33.000</td>\n",
       "      <td>3</td>\n",
       "      <td>Não</td>\n",
       "      <td>Sudeste</td>\n",
       "      <td>444.946200</td>\n",
       "    </tr>\n",
       "    <tr>\n",
       "      <th>3</th>\n",
       "      <td>33</td>\n",
       "      <td>Masculino</td>\n",
       "      <td>22.705</td>\n",
       "      <td>0</td>\n",
       "      <td>Não</td>\n",
       "      <td>Norte</td>\n",
       "      <td>2198.447061</td>\n",
       "    </tr>\n",
       "    <tr>\n",
       "      <th>4</th>\n",
       "      <td>32</td>\n",
       "      <td>Masculino</td>\n",
       "      <td>28.880</td>\n",
       "      <td>0</td>\n",
       "      <td>Não</td>\n",
       "      <td>Norte</td>\n",
       "      <td>386.685520</td>\n",
       "    </tr>\n",
       "    <tr>\n",
       "      <th>...</th>\n",
       "      <td>...</td>\n",
       "      <td>...</td>\n",
       "      <td>...</td>\n",
       "      <td>...</td>\n",
       "      <td>...</td>\n",
       "      <td>...</td>\n",
       "      <td>...</td>\n",
       "    </tr>\n",
       "    <tr>\n",
       "      <th>1333</th>\n",
       "      <td>50</td>\n",
       "      <td>Masculino</td>\n",
       "      <td>30.970</td>\n",
       "      <td>3</td>\n",
       "      <td>Não</td>\n",
       "      <td>Norte</td>\n",
       "      <td>1060.054830</td>\n",
       "    </tr>\n",
       "    <tr>\n",
       "      <th>1334</th>\n",
       "      <td>18</td>\n",
       "      <td>Feminino</td>\n",
       "      <td>31.920</td>\n",
       "      <td>0</td>\n",
       "      <td>Não</td>\n",
       "      <td>Nordeste</td>\n",
       "      <td>220.598080</td>\n",
       "    </tr>\n",
       "    <tr>\n",
       "      <th>1335</th>\n",
       "      <td>18</td>\n",
       "      <td>Feminino</td>\n",
       "      <td>36.850</td>\n",
       "      <td>0</td>\n",
       "      <td>Não</td>\n",
       "      <td>Sudeste</td>\n",
       "      <td>162.983350</td>\n",
       "    </tr>\n",
       "    <tr>\n",
       "      <th>1336</th>\n",
       "      <td>21</td>\n",
       "      <td>Feminino</td>\n",
       "      <td>25.800</td>\n",
       "      <td>0</td>\n",
       "      <td>Não</td>\n",
       "      <td>Centro</td>\n",
       "      <td>200.794500</td>\n",
       "    </tr>\n",
       "    <tr>\n",
       "      <th>1337</th>\n",
       "      <td>61</td>\n",
       "      <td>Feminino</td>\n",
       "      <td>29.070</td>\n",
       "      <td>0</td>\n",
       "      <td>Sim</td>\n",
       "      <td>Norte</td>\n",
       "      <td>2914.136030</td>\n",
       "    </tr>\n",
       "  </tbody>\n",
       "</table>\n",
       "<p>1338 rows × 7 columns</p>\n",
       "</div>"
      ],
      "text/plain": [
       "      Idade       Sexo     IMC  Qte_Filhos Fumante    Região  Custo_Saude\n",
       "0        19   Feminino  27.900           0     Sim    Centro  1688.492400\n",
       "1        18  Masculino  33.770           1     Não   Sudeste   172.555230\n",
       "2        28  Masculino  33.000           3     Não   Sudeste   444.946200\n",
       "3        33  Masculino  22.705           0     Não     Norte  2198.447061\n",
       "4        32  Masculino  28.880           0     Não     Norte   386.685520\n",
       "...     ...        ...     ...         ...     ...       ...          ...\n",
       "1333     50  Masculino  30.970           3     Não     Norte  1060.054830\n",
       "1334     18   Feminino  31.920           0     Não  Nordeste   220.598080\n",
       "1335     18   Feminino  36.850           0     Não   Sudeste   162.983350\n",
       "1336     21   Feminino  25.800           0     Não    Centro   200.794500\n",
       "1337     61   Feminino  29.070           0     Sim     Norte  2914.136030\n",
       "\n",
       "[1338 rows x 7 columns]"
      ]
     },
     "execution_count": 14,
     "metadata": {},
     "output_type": "execute_result"
    }
   ],
   "source": [
    "df"
   ]
  },
  {
   "cell_type": "markdown",
   "id": "6f71cad8",
   "metadata": {},
   "source": [
    "A base contém 1.338 registros e 7 colunas. Cada linha representa um colaborador. As variáveis apresentam tipos coerentes com o esperado (numéricos para IMC e custo, inteiros para filhos e categóricos para fumante). Não há colunas extras nem inconsistências de tipo."
   ]
  },
  {
   "cell_type": "code",
   "execution_count": null,
   "id": "9c28000d",
   "metadata": {},
   "outputs": [
    {
     "data": {
      "text/html": [
       "<div>\n",
       "<style scoped>\n",
       "    .dataframe tbody tr th:only-of-type {\n",
       "        vertical-align: middle;\n",
       "    }\n",
       "\n",
       "    .dataframe tbody tr th {\n",
       "        vertical-align: top;\n",
       "    }\n",
       "\n",
       "    .dataframe thead th {\n",
       "        text-align: right;\n",
       "    }\n",
       "</style>\n",
       "<table border=\"1\" class=\"dataframe\">\n",
       "  <thead>\n",
       "    <tr style=\"text-align: right;\">\n",
       "      <th></th>\n",
       "      <th>Idade</th>\n",
       "      <th>Sexo</th>\n",
       "      <th>IMC</th>\n",
       "      <th>Qte_Filhos</th>\n",
       "      <th>Fumante</th>\n",
       "      <th>Região</th>\n",
       "      <th>Custo_Saude</th>\n",
       "    </tr>\n",
       "  </thead>\n",
       "  <tbody>\n",
       "    <tr>\n",
       "      <th>0</th>\n",
       "      <td>19</td>\n",
       "      <td>Feminino</td>\n",
       "      <td>27.900</td>\n",
       "      <td>0</td>\n",
       "      <td>Sim</td>\n",
       "      <td>Centro</td>\n",
       "      <td>1688.492400</td>\n",
       "    </tr>\n",
       "    <tr>\n",
       "      <th>1</th>\n",
       "      <td>18</td>\n",
       "      <td>Masculino</td>\n",
       "      <td>33.770</td>\n",
       "      <td>1</td>\n",
       "      <td>Não</td>\n",
       "      <td>Sudeste</td>\n",
       "      <td>172.555230</td>\n",
       "    </tr>\n",
       "    <tr>\n",
       "      <th>2</th>\n",
       "      <td>28</td>\n",
       "      <td>Masculino</td>\n",
       "      <td>33.000</td>\n",
       "      <td>3</td>\n",
       "      <td>Não</td>\n",
       "      <td>Sudeste</td>\n",
       "      <td>444.946200</td>\n",
       "    </tr>\n",
       "    <tr>\n",
       "      <th>3</th>\n",
       "      <td>33</td>\n",
       "      <td>Masculino</td>\n",
       "      <td>22.705</td>\n",
       "      <td>0</td>\n",
       "      <td>Não</td>\n",
       "      <td>Norte</td>\n",
       "      <td>2198.447061</td>\n",
       "    </tr>\n",
       "    <tr>\n",
       "      <th>4</th>\n",
       "      <td>32</td>\n",
       "      <td>Masculino</td>\n",
       "      <td>28.880</td>\n",
       "      <td>0</td>\n",
       "      <td>Não</td>\n",
       "      <td>Norte</td>\n",
       "      <td>386.685520</td>\n",
       "    </tr>\n",
       "  </tbody>\n",
       "</table>\n",
       "</div>"
      ],
      "text/plain": [
       "   Idade       Sexo     IMC  Qte_Filhos Fumante   Região  Custo_Saude\n",
       "0     19   Feminino  27.900           0     Sim   Centro  1688.492400\n",
       "1     18  Masculino  33.770           1     Não  Sudeste   172.555230\n",
       "2     28  Masculino  33.000           3     Não  Sudeste   444.946200\n",
       "3     33  Masculino  22.705           0     Não    Norte  2198.447061\n",
       "4     32  Masculino  28.880           0     Não    Norte   386.685520"
      ]
     },
     "execution_count": 6,
     "metadata": {},
     "output_type": "execute_result"
    }
   ],
   "source": [
    "df.head() # verificando as primeiras linhas do dataframe"
   ]
  },
  {
   "cell_type": "code",
   "execution_count": 7,
   "id": "89f7736a",
   "metadata": {},
   "outputs": [
    {
     "data": {
      "text/plain": [
       "Index(['Idade', 'Sexo', 'IMC', 'Qte_Filhos', 'Fumante', 'Região',\n",
       "       'Custo_Saude'],\n",
       "      dtype='object')"
      ]
     },
     "execution_count": 7,
     "metadata": {},
     "output_type": "execute_result"
    }
   ],
   "source": [
    "df.columns # verificando as colunas do dataframe"
   ]
  },
  {
   "cell_type": "code",
   "execution_count": 8,
   "id": "97480413",
   "metadata": {},
   "outputs": [
    {
     "name": "stdout",
     "output_type": "stream",
     "text": [
      "<class 'pandas.core.frame.DataFrame'>\n",
      "RangeIndex: 1338 entries, 0 to 1337\n",
      "Data columns (total 7 columns):\n",
      " #   Column       Non-Null Count  Dtype  \n",
      "---  ------       --------------  -----  \n",
      " 0   Idade        1338 non-null   int64  \n",
      " 1   Sexo         1338 non-null   object \n",
      " 2   IMC          1338 non-null   float64\n",
      " 3   Qte_Filhos   1338 non-null   int64  \n",
      " 4   Fumante      1338 non-null   object \n",
      " 5   Região       1338 non-null   object \n",
      " 6   Custo_Saude  1338 non-null   float64\n",
      "dtypes: float64(2), int64(2), object(3)\n",
      "memory usage: 73.3+ KB\n"
     ]
    }
   ],
   "source": [
    "df.info() # verificando informações do dataframe"
   ]
  },
  {
   "cell_type": "code",
   "execution_count": 9,
   "id": "c146fb49",
   "metadata": {},
   "outputs": [
    {
     "data": {
      "text/plain": [
       "Idade          0\n",
       "Sexo           0\n",
       "IMC            0\n",
       "Qte_Filhos     0\n",
       "Fumante        0\n",
       "Região         0\n",
       "Custo_Saude    0\n",
       "dtype: int64"
      ]
     },
     "execution_count": 9,
     "metadata": {},
     "output_type": "execute_result"
    }
   ],
   "source": [
    "df.isna().sum() # verificando valores nulos no dataframe"
   ]
  },
  {
   "cell_type": "markdown",
   "id": "432d72a1",
   "metadata": {},
   "source": [
    "Não há nenhum valores ausentes"
   ]
  },
  {
   "cell_type": "code",
   "execution_count": null,
   "id": "9c8d1ba5",
   "metadata": {},
   "outputs": [
    {
     "data": {
      "text/plain": [
       "Idade          0\n",
       "Sexo           0\n",
       "IMC            0\n",
       "Qte_Filhos     0\n",
       "Fumante        0\n",
       "Região         0\n",
       "Custo_Saude    0\n",
       "dtype: int64"
      ]
     },
     "execution_count": 12,
     "metadata": {},
     "output_type": "execute_result"
    }
   ],
   "source": [
    "df.isnull().sum() # verificando valores nulos no dataframe"
   ]
  },
  {
   "cell_type": "code",
   "execution_count": 13,
   "id": "d980a2e8",
   "metadata": {},
   "outputs": [
    {
     "data": {
      "text/plain": [
       "1"
      ]
     },
     "execution_count": 13,
     "metadata": {},
     "output_type": "execute_result"
    }
   ],
   "source": [
    "df.duplicated().sum() # verificando valores duplicados no dataframe"
   ]
  },
  {
   "cell_type": "code",
   "execution_count": 15,
   "id": "a8d4a949",
   "metadata": {},
   "outputs": [
    {
     "data": {
      "text/html": [
       "<div>\n",
       "<style scoped>\n",
       "    .dataframe tbody tr th:only-of-type {\n",
       "        vertical-align: middle;\n",
       "    }\n",
       "\n",
       "    .dataframe tbody tr th {\n",
       "        vertical-align: top;\n",
       "    }\n",
       "\n",
       "    .dataframe thead th {\n",
       "        text-align: right;\n",
       "    }\n",
       "</style>\n",
       "<table border=\"1\" class=\"dataframe\">\n",
       "  <thead>\n",
       "    <tr style=\"text-align: right;\">\n",
       "      <th></th>\n",
       "      <th>Idade</th>\n",
       "      <th>Sexo</th>\n",
       "      <th>IMC</th>\n",
       "      <th>Qte_Filhos</th>\n",
       "      <th>Fumante</th>\n",
       "      <th>Região</th>\n",
       "      <th>Custo_Saude</th>\n",
       "    </tr>\n",
       "  </thead>\n",
       "  <tbody>\n",
       "    <tr>\n",
       "      <th>195</th>\n",
       "      <td>19</td>\n",
       "      <td>Masculino</td>\n",
       "      <td>30.59</td>\n",
       "      <td>0</td>\n",
       "      <td>Não</td>\n",
       "      <td>Norte</td>\n",
       "      <td>163.95631</td>\n",
       "    </tr>\n",
       "    <tr>\n",
       "      <th>581</th>\n",
       "      <td>19</td>\n",
       "      <td>Masculino</td>\n",
       "      <td>30.59</td>\n",
       "      <td>0</td>\n",
       "      <td>Não</td>\n",
       "      <td>Norte</td>\n",
       "      <td>163.95631</td>\n",
       "    </tr>\n",
       "  </tbody>\n",
       "</table>\n",
       "</div>"
      ],
      "text/plain": [
       "     Idade       Sexo    IMC  Qte_Filhos Fumante Região  Custo_Saude\n",
       "195     19  Masculino  30.59           0     Não  Norte    163.95631\n",
       "581     19  Masculino  30.59           0     Não  Norte    163.95631"
      ]
     },
     "execution_count": 15,
     "metadata": {},
     "output_type": "execute_result"
    }
   ],
   "source": [
    "df[df.duplicated(keep = False)]"
   ]
  },
  {
   "cell_type": "code",
   "execution_count": null,
   "id": "23267979",
   "metadata": {},
   "outputs": [
    {
     "data": {
      "text/html": [
       "<div>\n",
       "<style scoped>\n",
       "    .dataframe tbody tr th:only-of-type {\n",
       "        vertical-align: middle;\n",
       "    }\n",
       "\n",
       "    .dataframe tbody tr th {\n",
       "        vertical-align: top;\n",
       "    }\n",
       "\n",
       "    .dataframe thead th {\n",
       "        text-align: right;\n",
       "    }\n",
       "</style>\n",
       "<table border=\"1\" class=\"dataframe\">\n",
       "  <thead>\n",
       "    <tr style=\"text-align: right;\">\n",
       "      <th></th>\n",
       "      <th>Idade</th>\n",
       "      <th>IMC</th>\n",
       "      <th>Qte_Filhos</th>\n",
       "      <th>Custo_Saude</th>\n",
       "    </tr>\n",
       "  </thead>\n",
       "  <tbody>\n",
       "    <tr>\n",
       "      <th>count</th>\n",
       "      <td>1338.000000</td>\n",
       "      <td>1338.000000</td>\n",
       "      <td>1338.000000</td>\n",
       "      <td>1338.000000</td>\n",
       "    </tr>\n",
       "    <tr>\n",
       "      <th>mean</th>\n",
       "      <td>39.207025</td>\n",
       "      <td>30.663397</td>\n",
       "      <td>1.094918</td>\n",
       "      <td>1327.042227</td>\n",
       "    </tr>\n",
       "    <tr>\n",
       "      <th>std</th>\n",
       "      <td>14.049960</td>\n",
       "      <td>6.098187</td>\n",
       "      <td>1.205493</td>\n",
       "      <td>1211.001124</td>\n",
       "    </tr>\n",
       "    <tr>\n",
       "      <th>min</th>\n",
       "      <td>18.000000</td>\n",
       "      <td>15.960000</td>\n",
       "      <td>0.000000</td>\n",
       "      <td>112.187390</td>\n",
       "    </tr>\n",
       "    <tr>\n",
       "      <th>25%</th>\n",
       "      <td>27.000000</td>\n",
       "      <td>26.296250</td>\n",
       "      <td>0.000000</td>\n",
       "      <td>474.028715</td>\n",
       "    </tr>\n",
       "    <tr>\n",
       "      <th>50%</th>\n",
       "      <td>39.000000</td>\n",
       "      <td>30.400000</td>\n",
       "      <td>1.000000</td>\n",
       "      <td>938.203300</td>\n",
       "    </tr>\n",
       "    <tr>\n",
       "      <th>75%</th>\n",
       "      <td>51.000000</td>\n",
       "      <td>34.693750</td>\n",
       "      <td>2.000000</td>\n",
       "      <td>1663.991252</td>\n",
       "    </tr>\n",
       "    <tr>\n",
       "      <th>max</th>\n",
       "      <td>64.000000</td>\n",
       "      <td>53.130000</td>\n",
       "      <td>5.000000</td>\n",
       "      <td>6377.042801</td>\n",
       "    </tr>\n",
       "  </tbody>\n",
       "</table>\n",
       "</div>"
      ],
      "text/plain": [
       "             Idade          IMC   Qte_Filhos  Custo_Saude\n",
       "count  1338.000000  1338.000000  1338.000000  1338.000000\n",
       "mean     39.207025    30.663397     1.094918  1327.042227\n",
       "std      14.049960     6.098187     1.205493  1211.001124\n",
       "min      18.000000    15.960000     0.000000   112.187390\n",
       "25%      27.000000    26.296250     0.000000   474.028715\n",
       "50%      39.000000    30.400000     1.000000   938.203300\n",
       "75%      51.000000    34.693750     2.000000  1663.991252\n",
       "max      64.000000    53.130000     5.000000  6377.042801"
      ]
     },
     "execution_count": 16,
     "metadata": {},
     "output_type": "execute_result"
    }
   ],
   "source": [
    "df.describe() # Verificando se há valores inconsistentes ou fora do esperado nas (variáveis quantitativas)"
   ]
  },
  {
   "cell_type": "code",
   "execution_count": null,
   "id": "b19943ce",
   "metadata": {},
   "outputs": [
    {
     "data": {
      "text/plain": [
       "(Sexo\n",
       " Masculino    676\n",
       " Feminino     662\n",
       " Name: count, dtype: int64,\n",
       " Fumante\n",
       " Não    1064\n",
       " Sim     274\n",
       " Name: count, dtype: int64,\n",
       " Região\n",
       " Sudeste     364\n",
       " Centro      325\n",
       " Norte       325\n",
       " Nordeste    324\n",
       " Name: count, dtype: int64)"
      ]
     },
     "execution_count": 20,
     "metadata": {},
     "output_type": "execute_result"
    }
   ],
   "source": [
    "# Verificando se há valores inconsistentes ou fora do esperado nas (variáveis qualitativas)\n",
    "df['Sexo'].value_counts(),df['Fumante'].value_counts(),df['Região'].value_counts()\n"
   ]
  },
  {
   "cell_type": "code",
   "execution_count": null,
   "id": "47793a79",
   "metadata": {},
   "outputs": [],
   "source": []
  },
  {
   "cell_type": "markdown",
   "id": "11fa5973",
   "metadata": {},
   "source": []
  }
 ],
 "metadata": {
  "kernelspec": {
   "display_name": "Python 3",
   "language": "python",
   "name": "python3"
  },
  "language_info": {
   "codemirror_mode": {
    "name": "ipython",
    "version": 3
   },
   "file_extension": ".py",
   "mimetype": "text/x-python",
   "name": "python",
   "nbconvert_exporter": "python",
   "pygments_lexer": "ipython3",
   "version": "3.11.3"
  }
 },
 "nbformat": 4,
 "nbformat_minor": 5
}
