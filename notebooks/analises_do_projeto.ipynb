{
 "cells": [
  {
   "cell_type": "code",
   "execution_count": 7,
   "id": "d5a9cadd",
   "metadata": {},
   "outputs": [],
   "source": [
    "import pandas as pd\n",
    "import matplotlib.pyplot as plt\n",
    "import seaborn as sns"
   ]
  },
  {
   "cell_type": "markdown",
   "id": "c87f3d04",
   "metadata": {},
   "source": [
    "### Entendimento do Negócio e contexto\n",
    "\n",
    "Este projeto analisa os fatores que influenciam o custo do plano de saúde corporativo de uma empresa do setor alimentício com mais de 20 mil colaboradores no Brasil.\n",
    "\n",
    "A pesquisa foi conduzida com 1.338 colaboradores selecionados aleatoriamente e contém informações sobre índice de massa corporal (IMC), hábito de fumar e quantidade de filhos.\n",
    "\n",
    "A análise segue a metodologia CRISP-DM, aplicando técnicas de análise exploratória, associação e regressão linear para compreender quais fatores estão mais relacionados ao aumento do custo do plano e propor ações preventivas.\n"
   ]
  },
  {
   "cell_type": "markdown",
   "id": "5824b955",
   "metadata": {},
   "source": [
    "### Objetivo\n",
    "\n",
    "Quais fatores estão mais relacionados com o custo do plano de saúde?\n",
    "\n",
    "Que ações preventivas podem ser implementadas para reduzir esse custo?"
   ]
  },
  {
   "cell_type": "markdown",
   "id": "094e5405",
   "metadata": {},
   "source": [
    "## Entendimento dos dados"
   ]
  },
  {
   "cell_type": "markdown",
   "id": "27e6713e",
   "metadata": {},
   "source": [
    "### Descrição dos dados"
   ]
  },
  {
   "cell_type": "code",
   "execution_count": 8,
   "id": "c0fd7a88",
   "metadata": {},
   "outputs": [],
   "source": [
    "# importando dados do arquivo excel\n",
    "df = pd.read_excel('../data/base_plano_de_saude.xlsx', sheet_name= 'base')"
   ]
  },
  {
   "cell_type": "code",
   "execution_count": 9,
   "id": "36eb007e",
   "metadata": {},
   "outputs": [
    {
     "data": {
      "text/html": [
       "<div>\n",
       "<style scoped>\n",
       "    .dataframe tbody tr th:only-of-type {\n",
       "        vertical-align: middle;\n",
       "    }\n",
       "\n",
       "    .dataframe tbody tr th {\n",
       "        vertical-align: top;\n",
       "    }\n",
       "\n",
       "    .dataframe thead th {\n",
       "        text-align: right;\n",
       "    }\n",
       "</style>\n",
       "<table border=\"1\" class=\"dataframe\">\n",
       "  <thead>\n",
       "    <tr style=\"text-align: right;\">\n",
       "      <th></th>\n",
       "      <th>Idade</th>\n",
       "      <th>Sexo</th>\n",
       "      <th>IMC</th>\n",
       "      <th>Qte_Filhos</th>\n",
       "      <th>Fumante</th>\n",
       "      <th>Região</th>\n",
       "      <th>Custo_Saude</th>\n",
       "    </tr>\n",
       "  </thead>\n",
       "  <tbody>\n",
       "    <tr>\n",
       "      <th>0</th>\n",
       "      <td>19</td>\n",
       "      <td>Feminino</td>\n",
       "      <td>27.900</td>\n",
       "      <td>0</td>\n",
       "      <td>Sim</td>\n",
       "      <td>Centro</td>\n",
       "      <td>1688.492400</td>\n",
       "    </tr>\n",
       "    <tr>\n",
       "      <th>1</th>\n",
       "      <td>18</td>\n",
       "      <td>Masculino</td>\n",
       "      <td>33.770</td>\n",
       "      <td>1</td>\n",
       "      <td>Não</td>\n",
       "      <td>Sudeste</td>\n",
       "      <td>172.555230</td>\n",
       "    </tr>\n",
       "    <tr>\n",
       "      <th>2</th>\n",
       "      <td>28</td>\n",
       "      <td>Masculino</td>\n",
       "      <td>33.000</td>\n",
       "      <td>3</td>\n",
       "      <td>Não</td>\n",
       "      <td>Sudeste</td>\n",
       "      <td>444.946200</td>\n",
       "    </tr>\n",
       "    <tr>\n",
       "      <th>3</th>\n",
       "      <td>33</td>\n",
       "      <td>Masculino</td>\n",
       "      <td>22.705</td>\n",
       "      <td>0</td>\n",
       "      <td>Não</td>\n",
       "      <td>Norte</td>\n",
       "      <td>2198.447061</td>\n",
       "    </tr>\n",
       "    <tr>\n",
       "      <th>4</th>\n",
       "      <td>32</td>\n",
       "      <td>Masculino</td>\n",
       "      <td>28.880</td>\n",
       "      <td>0</td>\n",
       "      <td>Não</td>\n",
       "      <td>Norte</td>\n",
       "      <td>386.685520</td>\n",
       "    </tr>\n",
       "    <tr>\n",
       "      <th>...</th>\n",
       "      <td>...</td>\n",
       "      <td>...</td>\n",
       "      <td>...</td>\n",
       "      <td>...</td>\n",
       "      <td>...</td>\n",
       "      <td>...</td>\n",
       "      <td>...</td>\n",
       "    </tr>\n",
       "    <tr>\n",
       "      <th>1333</th>\n",
       "      <td>50</td>\n",
       "      <td>Masculino</td>\n",
       "      <td>30.970</td>\n",
       "      <td>3</td>\n",
       "      <td>Não</td>\n",
       "      <td>Norte</td>\n",
       "      <td>1060.054830</td>\n",
       "    </tr>\n",
       "    <tr>\n",
       "      <th>1334</th>\n",
       "      <td>18</td>\n",
       "      <td>Feminino</td>\n",
       "      <td>31.920</td>\n",
       "      <td>0</td>\n",
       "      <td>Não</td>\n",
       "      <td>Nordeste</td>\n",
       "      <td>220.598080</td>\n",
       "    </tr>\n",
       "    <tr>\n",
       "      <th>1335</th>\n",
       "      <td>18</td>\n",
       "      <td>Feminino</td>\n",
       "      <td>36.850</td>\n",
       "      <td>0</td>\n",
       "      <td>Não</td>\n",
       "      <td>Sudeste</td>\n",
       "      <td>162.983350</td>\n",
       "    </tr>\n",
       "    <tr>\n",
       "      <th>1336</th>\n",
       "      <td>21</td>\n",
       "      <td>Feminino</td>\n",
       "      <td>25.800</td>\n",
       "      <td>0</td>\n",
       "      <td>Não</td>\n",
       "      <td>Centro</td>\n",
       "      <td>200.794500</td>\n",
       "    </tr>\n",
       "    <tr>\n",
       "      <th>1337</th>\n",
       "      <td>61</td>\n",
       "      <td>Feminino</td>\n",
       "      <td>29.070</td>\n",
       "      <td>0</td>\n",
       "      <td>Sim</td>\n",
       "      <td>Norte</td>\n",
       "      <td>2914.136030</td>\n",
       "    </tr>\n",
       "  </tbody>\n",
       "</table>\n",
       "<p>1338 rows × 7 columns</p>\n",
       "</div>"
      ],
      "text/plain": [
       "      Idade       Sexo     IMC  Qte_Filhos Fumante    Região  Custo_Saude\n",
       "0        19   Feminino  27.900           0     Sim    Centro  1688.492400\n",
       "1        18  Masculino  33.770           1     Não   Sudeste   172.555230\n",
       "2        28  Masculino  33.000           3     Não   Sudeste   444.946200\n",
       "3        33  Masculino  22.705           0     Não     Norte  2198.447061\n",
       "4        32  Masculino  28.880           0     Não     Norte   386.685520\n",
       "...     ...        ...     ...         ...     ...       ...          ...\n",
       "1333     50  Masculino  30.970           3     Não     Norte  1060.054830\n",
       "1334     18   Feminino  31.920           0     Não  Nordeste   220.598080\n",
       "1335     18   Feminino  36.850           0     Não   Sudeste   162.983350\n",
       "1336     21   Feminino  25.800           0     Não    Centro   200.794500\n",
       "1337     61   Feminino  29.070           0     Sim     Norte  2914.136030\n",
       "\n",
       "[1338 rows x 7 columns]"
      ]
     },
     "execution_count": 9,
     "metadata": {},
     "output_type": "execute_result"
    }
   ],
   "source": [
    "df"
   ]
  },
  {
   "cell_type": "markdown",
   "id": "6f71cad8",
   "metadata": {},
   "source": [
    "A base contém 1.338 registros e 7 colunas. Cada linha representa um colaborador. As variáveis apresentam tipos coerentes com o esperado (numéricos para IMC e custo, inteiros para filhos e categóricos para fumante). Não há colunas extras nem inconsistências de tipo."
   ]
  },
  {
   "cell_type": "code",
   "execution_count": 10,
   "id": "9c28000d",
   "metadata": {},
   "outputs": [
    {
     "data": {
      "text/html": [
       "<div>\n",
       "<style scoped>\n",
       "    .dataframe tbody tr th:only-of-type {\n",
       "        vertical-align: middle;\n",
       "    }\n",
       "\n",
       "    .dataframe tbody tr th {\n",
       "        vertical-align: top;\n",
       "    }\n",
       "\n",
       "    .dataframe thead th {\n",
       "        text-align: right;\n",
       "    }\n",
       "</style>\n",
       "<table border=\"1\" class=\"dataframe\">\n",
       "  <thead>\n",
       "    <tr style=\"text-align: right;\">\n",
       "      <th></th>\n",
       "      <th>Idade</th>\n",
       "      <th>Sexo</th>\n",
       "      <th>IMC</th>\n",
       "      <th>Qte_Filhos</th>\n",
       "      <th>Fumante</th>\n",
       "      <th>Região</th>\n",
       "      <th>Custo_Saude</th>\n",
       "    </tr>\n",
       "  </thead>\n",
       "  <tbody>\n",
       "    <tr>\n",
       "      <th>0</th>\n",
       "      <td>19</td>\n",
       "      <td>Feminino</td>\n",
       "      <td>27.900</td>\n",
       "      <td>0</td>\n",
       "      <td>Sim</td>\n",
       "      <td>Centro</td>\n",
       "      <td>1688.492400</td>\n",
       "    </tr>\n",
       "    <tr>\n",
       "      <th>1</th>\n",
       "      <td>18</td>\n",
       "      <td>Masculino</td>\n",
       "      <td>33.770</td>\n",
       "      <td>1</td>\n",
       "      <td>Não</td>\n",
       "      <td>Sudeste</td>\n",
       "      <td>172.555230</td>\n",
       "    </tr>\n",
       "    <tr>\n",
       "      <th>2</th>\n",
       "      <td>28</td>\n",
       "      <td>Masculino</td>\n",
       "      <td>33.000</td>\n",
       "      <td>3</td>\n",
       "      <td>Não</td>\n",
       "      <td>Sudeste</td>\n",
       "      <td>444.946200</td>\n",
       "    </tr>\n",
       "    <tr>\n",
       "      <th>3</th>\n",
       "      <td>33</td>\n",
       "      <td>Masculino</td>\n",
       "      <td>22.705</td>\n",
       "      <td>0</td>\n",
       "      <td>Não</td>\n",
       "      <td>Norte</td>\n",
       "      <td>2198.447061</td>\n",
       "    </tr>\n",
       "    <tr>\n",
       "      <th>4</th>\n",
       "      <td>32</td>\n",
       "      <td>Masculino</td>\n",
       "      <td>28.880</td>\n",
       "      <td>0</td>\n",
       "      <td>Não</td>\n",
       "      <td>Norte</td>\n",
       "      <td>386.685520</td>\n",
       "    </tr>\n",
       "  </tbody>\n",
       "</table>\n",
       "</div>"
      ],
      "text/plain": [
       "   Idade       Sexo     IMC  Qte_Filhos Fumante   Região  Custo_Saude\n",
       "0     19   Feminino  27.900           0     Sim   Centro  1688.492400\n",
       "1     18  Masculino  33.770           1     Não  Sudeste   172.555230\n",
       "2     28  Masculino  33.000           3     Não  Sudeste   444.946200\n",
       "3     33  Masculino  22.705           0     Não    Norte  2198.447061\n",
       "4     32  Masculino  28.880           0     Não    Norte   386.685520"
      ]
     },
     "execution_count": 10,
     "metadata": {},
     "output_type": "execute_result"
    }
   ],
   "source": [
    "df.head() # verificando as primeiras linhas do dataframe"
   ]
  },
  {
   "cell_type": "code",
   "execution_count": 11,
   "id": "89f7736a",
   "metadata": {},
   "outputs": [
    {
     "data": {
      "text/plain": [
       "Index(['Idade', 'Sexo', 'IMC', 'Qte_Filhos', 'Fumante', 'Região',\n",
       "       'Custo_Saude'],\n",
       "      dtype='object')"
      ]
     },
     "execution_count": 11,
     "metadata": {},
     "output_type": "execute_result"
    }
   ],
   "source": [
    "df.columns # verificando as colunas do dataframe"
   ]
  },
  {
   "cell_type": "code",
   "execution_count": 12,
   "id": "97480413",
   "metadata": {},
   "outputs": [
    {
     "name": "stdout",
     "output_type": "stream",
     "text": [
      "<class 'pandas.core.frame.DataFrame'>\n",
      "RangeIndex: 1338 entries, 0 to 1337\n",
      "Data columns (total 7 columns):\n",
      " #   Column       Non-Null Count  Dtype  \n",
      "---  ------       --------------  -----  \n",
      " 0   Idade        1338 non-null   int64  \n",
      " 1   Sexo         1338 non-null   object \n",
      " 2   IMC          1338 non-null   float64\n",
      " 3   Qte_Filhos   1338 non-null   int64  \n",
      " 4   Fumante      1338 non-null   object \n",
      " 5   Região       1338 non-null   object \n",
      " 6   Custo_Saude  1338 non-null   float64\n",
      "dtypes: float64(2), int64(2), object(3)\n",
      "memory usage: 73.3+ KB\n"
     ]
    }
   ],
   "source": [
    "df.info() # verificando informações do dataframe"
   ]
  },
  {
   "cell_type": "code",
   "execution_count": 13,
   "id": "c146fb49",
   "metadata": {},
   "outputs": [
    {
     "data": {
      "text/plain": [
       "Idade          0\n",
       "Sexo           0\n",
       "IMC            0\n",
       "Qte_Filhos     0\n",
       "Fumante        0\n",
       "Região         0\n",
       "Custo_Saude    0\n",
       "dtype: int64"
      ]
     },
     "execution_count": 13,
     "metadata": {},
     "output_type": "execute_result"
    }
   ],
   "source": [
    "df.isna().sum() # verificando valores nulos no dataframe"
   ]
  },
  {
   "cell_type": "markdown",
   "id": "432d72a1",
   "metadata": {},
   "source": [
    "Não há nenhum valores ausentes"
   ]
  },
  {
   "cell_type": "code",
   "execution_count": 14,
   "id": "9c8d1ba5",
   "metadata": {},
   "outputs": [
    {
     "data": {
      "text/plain": [
       "Idade          0\n",
       "Sexo           0\n",
       "IMC            0\n",
       "Qte_Filhos     0\n",
       "Fumante        0\n",
       "Região         0\n",
       "Custo_Saude    0\n",
       "dtype: int64"
      ]
     },
     "execution_count": 14,
     "metadata": {},
     "output_type": "execute_result"
    }
   ],
   "source": [
    "df.isnull().sum() # verificando valores nulos no dataframe"
   ]
  },
  {
   "cell_type": "code",
   "execution_count": 15,
   "id": "d980a2e8",
   "metadata": {},
   "outputs": [
    {
     "data": {
      "text/plain": [
       "np.int64(1)"
      ]
     },
     "execution_count": 15,
     "metadata": {},
     "output_type": "execute_result"
    }
   ],
   "source": [
    "df.duplicated().sum() # verificando valores duplicados no dataframe"
   ]
  },
  {
   "cell_type": "code",
   "execution_count": 16,
   "id": "a8d4a949",
   "metadata": {},
   "outputs": [
    {
     "data": {
      "text/html": [
       "<div>\n",
       "<style scoped>\n",
       "    .dataframe tbody tr th:only-of-type {\n",
       "        vertical-align: middle;\n",
       "    }\n",
       "\n",
       "    .dataframe tbody tr th {\n",
       "        vertical-align: top;\n",
       "    }\n",
       "\n",
       "    .dataframe thead th {\n",
       "        text-align: right;\n",
       "    }\n",
       "</style>\n",
       "<table border=\"1\" class=\"dataframe\">\n",
       "  <thead>\n",
       "    <tr style=\"text-align: right;\">\n",
       "      <th></th>\n",
       "      <th>Idade</th>\n",
       "      <th>Sexo</th>\n",
       "      <th>IMC</th>\n",
       "      <th>Qte_Filhos</th>\n",
       "      <th>Fumante</th>\n",
       "      <th>Região</th>\n",
       "      <th>Custo_Saude</th>\n",
       "    </tr>\n",
       "  </thead>\n",
       "  <tbody>\n",
       "    <tr>\n",
       "      <th>195</th>\n",
       "      <td>19</td>\n",
       "      <td>Masculino</td>\n",
       "      <td>30.59</td>\n",
       "      <td>0</td>\n",
       "      <td>Não</td>\n",
       "      <td>Norte</td>\n",
       "      <td>163.95631</td>\n",
       "    </tr>\n",
       "    <tr>\n",
       "      <th>581</th>\n",
       "      <td>19</td>\n",
       "      <td>Masculino</td>\n",
       "      <td>30.59</td>\n",
       "      <td>0</td>\n",
       "      <td>Não</td>\n",
       "      <td>Norte</td>\n",
       "      <td>163.95631</td>\n",
       "    </tr>\n",
       "  </tbody>\n",
       "</table>\n",
       "</div>"
      ],
      "text/plain": [
       "     Idade       Sexo    IMC  Qte_Filhos Fumante Região  Custo_Saude\n",
       "195     19  Masculino  30.59           0     Não  Norte    163.95631\n",
       "581     19  Masculino  30.59           0     Não  Norte    163.95631"
      ]
     },
     "execution_count": 16,
     "metadata": {},
     "output_type": "execute_result"
    }
   ],
   "source": [
    "df[df.duplicated(keep = False)]"
   ]
  },
  {
   "cell_type": "code",
   "execution_count": 17,
   "id": "23267979",
   "metadata": {},
   "outputs": [
    {
     "data": {
      "text/html": [
       "<div>\n",
       "<style scoped>\n",
       "    .dataframe tbody tr th:only-of-type {\n",
       "        vertical-align: middle;\n",
       "    }\n",
       "\n",
       "    .dataframe tbody tr th {\n",
       "        vertical-align: top;\n",
       "    }\n",
       "\n",
       "    .dataframe thead th {\n",
       "        text-align: right;\n",
       "    }\n",
       "</style>\n",
       "<table border=\"1\" class=\"dataframe\">\n",
       "  <thead>\n",
       "    <tr style=\"text-align: right;\">\n",
       "      <th></th>\n",
       "      <th>Idade</th>\n",
       "      <th>IMC</th>\n",
       "      <th>Qte_Filhos</th>\n",
       "      <th>Custo_Saude</th>\n",
       "    </tr>\n",
       "  </thead>\n",
       "  <tbody>\n",
       "    <tr>\n",
       "      <th>count</th>\n",
       "      <td>1338.000000</td>\n",
       "      <td>1338.000000</td>\n",
       "      <td>1338.000000</td>\n",
       "      <td>1338.000000</td>\n",
       "    </tr>\n",
       "    <tr>\n",
       "      <th>mean</th>\n",
       "      <td>39.207025</td>\n",
       "      <td>30.663397</td>\n",
       "      <td>1.094918</td>\n",
       "      <td>1327.042227</td>\n",
       "    </tr>\n",
       "    <tr>\n",
       "      <th>std</th>\n",
       "      <td>14.049960</td>\n",
       "      <td>6.098187</td>\n",
       "      <td>1.205493</td>\n",
       "      <td>1211.001124</td>\n",
       "    </tr>\n",
       "    <tr>\n",
       "      <th>min</th>\n",
       "      <td>18.000000</td>\n",
       "      <td>15.960000</td>\n",
       "      <td>0.000000</td>\n",
       "      <td>112.187390</td>\n",
       "    </tr>\n",
       "    <tr>\n",
       "      <th>25%</th>\n",
       "      <td>27.000000</td>\n",
       "      <td>26.296250</td>\n",
       "      <td>0.000000</td>\n",
       "      <td>474.028715</td>\n",
       "    </tr>\n",
       "    <tr>\n",
       "      <th>50%</th>\n",
       "      <td>39.000000</td>\n",
       "      <td>30.400000</td>\n",
       "      <td>1.000000</td>\n",
       "      <td>938.203300</td>\n",
       "    </tr>\n",
       "    <tr>\n",
       "      <th>75%</th>\n",
       "      <td>51.000000</td>\n",
       "      <td>34.693750</td>\n",
       "      <td>2.000000</td>\n",
       "      <td>1663.991252</td>\n",
       "    </tr>\n",
       "    <tr>\n",
       "      <th>max</th>\n",
       "      <td>64.000000</td>\n",
       "      <td>53.130000</td>\n",
       "      <td>5.000000</td>\n",
       "      <td>6377.042801</td>\n",
       "    </tr>\n",
       "  </tbody>\n",
       "</table>\n",
       "</div>"
      ],
      "text/plain": [
       "             Idade          IMC   Qte_Filhos  Custo_Saude\n",
       "count  1338.000000  1338.000000  1338.000000  1338.000000\n",
       "mean     39.207025    30.663397     1.094918  1327.042227\n",
       "std      14.049960     6.098187     1.205493  1211.001124\n",
       "min      18.000000    15.960000     0.000000   112.187390\n",
       "25%      27.000000    26.296250     0.000000   474.028715\n",
       "50%      39.000000    30.400000     1.000000   938.203300\n",
       "75%      51.000000    34.693750     2.000000  1663.991252\n",
       "max      64.000000    53.130000     5.000000  6377.042801"
      ]
     },
     "execution_count": 17,
     "metadata": {},
     "output_type": "execute_result"
    }
   ],
   "source": [
    "df.describe() # Verificando se há valores inconsistentes ou fora do esperado nas (variáveis quantitativas)"
   ]
  },
  {
   "cell_type": "code",
   "execution_count": 18,
   "id": "b19943ce",
   "metadata": {},
   "outputs": [
    {
     "data": {
      "text/plain": [
       "(Sexo\n",
       " Masculino    676\n",
       " Feminino     662\n",
       " Name: count, dtype: int64,\n",
       " Fumante\n",
       " Não    1064\n",
       " Sim     274\n",
       " Name: count, dtype: int64,\n",
       " Região\n",
       " Sudeste     364\n",
       " Centro      325\n",
       " Norte       325\n",
       " Nordeste    324\n",
       " Name: count, dtype: int64)"
      ]
     },
     "execution_count": 18,
     "metadata": {},
     "output_type": "execute_result"
    }
   ],
   "source": [
    "# Verificando se há valores inconsistentes ou fora do esperado nas (variáveis qualitativas)\n",
    "df['Sexo'].value_counts(),df['Fumante'].value_counts(),df['Região'].value_counts()\n"
   ]
  },
  {
   "cell_type": "markdown",
   "id": "11fa5973",
   "metadata": {},
   "source": [
    "Sanity check concluído. A base possui 1.338 registros e 7 colunas. Após a verificação de duplicidades, 1 registro duplicado apareceu, mas como não temos informação se realmente é um colaborador que possui as mesmas características, ou se foi uma mesma resposta pra colaborador.\n",
    "\n",
    "Não possui também valores nulos ou ausentes.\n",
    "\n",
    "Os tipos de dados estão coerentes com o esperado."
   ]
  },
  {
   "cell_type": "code",
   "execution_count": 19,
   "id": "daa06ddc",
   "metadata": {},
   "outputs": [],
   "source": [
    "#Criando o dicionário de metadados\n",
    "\n",
    "df_meta_dados = pd.DataFrame({\n",
    "    'Variável': ['Idade', 'Sexo', 'IMC', 'Filhos', 'Fumante', 'Região', 'Custo'],\n",
    "    'Descrição': [\n",
    "        'Idade do colaborador em anos',\n",
    "        'Sexo do colaborador (masculino ou feminino)',\n",
    "        'Índice de Massa Corporal (IMC) do colaborador',\n",
    "        'Número de filhos/dependentes do colaborador',\n",
    "        'Indica se o colaborador é fumante (sim ou não)',\n",
    "        'Região geográfica onde o colaborador reside',\n",
    "        'Custo anual dos cuidados de saúde do colaborador em dólares'\n",
    "    ],\n",
    "    'Tipo de Dado': [\n",
    "        'Inteiro',\n",
    "        'Categórico',\n",
    "        'Numérico (float)',\n",
    "        'Inteiro',\n",
    "        'Categórico',\n",
    "        'Categórico',\n",
    "        'Numérico (float)'\n",
    "    ],\n",
    "    'Tipo de Variável': [\n",
    "        'Quantitativa Discreta',\n",
    "        'Qualitativa Nominal',\n",
    "        'Quantitativa Contínua',\n",
    "        'Quantitativa Discreta',\n",
    "        'Qualitativa Nominal',\n",
    "        'Qualitativa Nominal',\n",
    "        'Quantitativa Contínua'\n",
    "    ]})"
   ]
  },
  {
   "cell_type": "code",
   "execution_count": 20,
   "id": "b482f626",
   "metadata": {},
   "outputs": [
    {
     "data": {
      "text/html": [
       "<div>\n",
       "<style scoped>\n",
       "    .dataframe tbody tr th:only-of-type {\n",
       "        vertical-align: middle;\n",
       "    }\n",
       "\n",
       "    .dataframe tbody tr th {\n",
       "        vertical-align: top;\n",
       "    }\n",
       "\n",
       "    .dataframe thead th {\n",
       "        text-align: right;\n",
       "    }\n",
       "</style>\n",
       "<table border=\"1\" class=\"dataframe\">\n",
       "  <thead>\n",
       "    <tr style=\"text-align: right;\">\n",
       "      <th></th>\n",
       "      <th>Variável</th>\n",
       "      <th>Descrição</th>\n",
       "      <th>Tipo de Dado</th>\n",
       "      <th>Tipo de Variável</th>\n",
       "    </tr>\n",
       "  </thead>\n",
       "  <tbody>\n",
       "    <tr>\n",
       "      <th>0</th>\n",
       "      <td>Idade</td>\n",
       "      <td>Idade do colaborador em anos</td>\n",
       "      <td>Inteiro</td>\n",
       "      <td>Quantitativa Discreta</td>\n",
       "    </tr>\n",
       "    <tr>\n",
       "      <th>1</th>\n",
       "      <td>Sexo</td>\n",
       "      <td>Sexo do colaborador (masculino ou feminino)</td>\n",
       "      <td>Categórico</td>\n",
       "      <td>Qualitativa Nominal</td>\n",
       "    </tr>\n",
       "    <tr>\n",
       "      <th>2</th>\n",
       "      <td>IMC</td>\n",
       "      <td>Índice de Massa Corporal (IMC) do colaborador</td>\n",
       "      <td>Numérico (float)</td>\n",
       "      <td>Quantitativa Contínua</td>\n",
       "    </tr>\n",
       "    <tr>\n",
       "      <th>3</th>\n",
       "      <td>Filhos</td>\n",
       "      <td>Número de filhos/dependentes do colaborador</td>\n",
       "      <td>Inteiro</td>\n",
       "      <td>Quantitativa Discreta</td>\n",
       "    </tr>\n",
       "    <tr>\n",
       "      <th>4</th>\n",
       "      <td>Fumante</td>\n",
       "      <td>Indica se o colaborador é fumante (sim ou não)</td>\n",
       "      <td>Categórico</td>\n",
       "      <td>Qualitativa Nominal</td>\n",
       "    </tr>\n",
       "    <tr>\n",
       "      <th>5</th>\n",
       "      <td>Região</td>\n",
       "      <td>Região geográfica onde o colaborador reside</td>\n",
       "      <td>Categórico</td>\n",
       "      <td>Qualitativa Nominal</td>\n",
       "    </tr>\n",
       "    <tr>\n",
       "      <th>6</th>\n",
       "      <td>Custo</td>\n",
       "      <td>Custo anual dos cuidados de saúde do colaborad...</td>\n",
       "      <td>Numérico (float)</td>\n",
       "      <td>Quantitativa Contínua</td>\n",
       "    </tr>\n",
       "  </tbody>\n",
       "</table>\n",
       "</div>"
      ],
      "text/plain": [
       "  Variável                                          Descrição  \\\n",
       "0    Idade                       Idade do colaborador em anos   \n",
       "1     Sexo        Sexo do colaborador (masculino ou feminino)   \n",
       "2      IMC      Índice de Massa Corporal (IMC) do colaborador   \n",
       "3   Filhos        Número de filhos/dependentes do colaborador   \n",
       "4  Fumante     Indica se o colaborador é fumante (sim ou não)   \n",
       "5   Região        Região geográfica onde o colaborador reside   \n",
       "6    Custo  Custo anual dos cuidados de saúde do colaborad...   \n",
       "\n",
       "       Tipo de Dado       Tipo de Variável  \n",
       "0           Inteiro  Quantitativa Discreta  \n",
       "1        Categórico    Qualitativa Nominal  \n",
       "2  Numérico (float)  Quantitativa Contínua  \n",
       "3           Inteiro  Quantitativa Discreta  \n",
       "4        Categórico    Qualitativa Nominal  \n",
       "5        Categórico    Qualitativa Nominal  \n",
       "6  Numérico (float)  Quantitativa Contínua  "
      ]
     },
     "execution_count": 20,
     "metadata": {},
     "output_type": "execute_result"
    }
   ],
   "source": [
    "#Exibindo o dicionário de metadados\n",
    "df_meta_dados"
   ]
  },
  {
   "cell_type": "code",
   "execution_count": 21,
   "id": "bb120965",
   "metadata": {},
   "outputs": [],
   "source": [
    "#Exportando o dicionário de metadados para um arquivo excel\n",
    "df_meta_dados.to_excel('../data/dicionario_de_metadados.xlsx', index =False)"
   ]
  },
  {
   "cell_type": "markdown",
   "id": "48a1d039",
   "metadata": {},
   "source": [
    "### Transformação dos dados"
   ]
  },
  {
   "cell_type": "code",
   "execution_count": 22,
   "id": "8d9d3dbb",
   "metadata": {},
   "outputs": [
    {
     "data": {
      "text/html": [
       "<div>\n",
       "<style scoped>\n",
       "    .dataframe tbody tr th:only-of-type {\n",
       "        vertical-align: middle;\n",
       "    }\n",
       "\n",
       "    .dataframe tbody tr th {\n",
       "        vertical-align: top;\n",
       "    }\n",
       "\n",
       "    .dataframe thead th {\n",
       "        text-align: right;\n",
       "    }\n",
       "</style>\n",
       "<table border=\"1\" class=\"dataframe\">\n",
       "  <thead>\n",
       "    <tr style=\"text-align: right;\">\n",
       "      <th></th>\n",
       "      <th>Idade</th>\n",
       "      <th>Sexo</th>\n",
       "      <th>IMC</th>\n",
       "      <th>Qte_Filhos</th>\n",
       "      <th>Fumante</th>\n",
       "      <th>Região</th>\n",
       "      <th>Custo_Saude</th>\n",
       "      <th>Faixa_IMC</th>\n",
       "    </tr>\n",
       "  </thead>\n",
       "  <tbody>\n",
       "    <tr>\n",
       "      <th>0</th>\n",
       "      <td>19</td>\n",
       "      <td>Feminino</td>\n",
       "      <td>27.900</td>\n",
       "      <td>0</td>\n",
       "      <td>Sim</td>\n",
       "      <td>Centro</td>\n",
       "      <td>1688.492400</td>\n",
       "      <td>Sobrepeso</td>\n",
       "    </tr>\n",
       "    <tr>\n",
       "      <th>1</th>\n",
       "      <td>18</td>\n",
       "      <td>Masculino</td>\n",
       "      <td>33.770</td>\n",
       "      <td>1</td>\n",
       "      <td>Não</td>\n",
       "      <td>Sudeste</td>\n",
       "      <td>172.555230</td>\n",
       "      <td>Obesidade grau I</td>\n",
       "    </tr>\n",
       "    <tr>\n",
       "      <th>2</th>\n",
       "      <td>28</td>\n",
       "      <td>Masculino</td>\n",
       "      <td>33.000</td>\n",
       "      <td>3</td>\n",
       "      <td>Não</td>\n",
       "      <td>Sudeste</td>\n",
       "      <td>444.946200</td>\n",
       "      <td>Obesidade grau I</td>\n",
       "    </tr>\n",
       "    <tr>\n",
       "      <th>3</th>\n",
       "      <td>33</td>\n",
       "      <td>Masculino</td>\n",
       "      <td>22.705</td>\n",
       "      <td>0</td>\n",
       "      <td>Não</td>\n",
       "      <td>Norte</td>\n",
       "      <td>2198.447061</td>\n",
       "      <td>Peso normal</td>\n",
       "    </tr>\n",
       "    <tr>\n",
       "      <th>4</th>\n",
       "      <td>32</td>\n",
       "      <td>Masculino</td>\n",
       "      <td>28.880</td>\n",
       "      <td>0</td>\n",
       "      <td>Não</td>\n",
       "      <td>Norte</td>\n",
       "      <td>386.685520</td>\n",
       "      <td>Sobrepeso</td>\n",
       "    </tr>\n",
       "  </tbody>\n",
       "</table>\n",
       "</div>"
      ],
      "text/plain": [
       "   Idade       Sexo     IMC  Qte_Filhos Fumante   Região  Custo_Saude  \\\n",
       "0     19   Feminino  27.900           0     Sim   Centro  1688.492400   \n",
       "1     18  Masculino  33.770           1     Não  Sudeste   172.555230   \n",
       "2     28  Masculino  33.000           3     Não  Sudeste   444.946200   \n",
       "3     33  Masculino  22.705           0     Não    Norte  2198.447061   \n",
       "4     32  Masculino  28.880           0     Não    Norte   386.685520   \n",
       "\n",
       "          Faixa_IMC  \n",
       "0         Sobrepeso  \n",
       "1  Obesidade grau I  \n",
       "2  Obesidade grau I  \n",
       "3       Peso normal  \n",
       "4         Sobrepeso  "
      ]
     },
     "execution_count": 22,
     "metadata": {},
     "output_type": "execute_result"
    }
   ],
   "source": [
    "#Criando a variável de faixa de IMC\n",
    "df['Faixa_IMC'] = pd.cut(df['IMC'],\n",
    "                        bins = [0, 18.5, 24.9, 29.9, 34.9, 39.9, float('inf')],\n",
    "                        labels = [\n",
    "                            'Abaixo do peso',\n",
    "                            'Peso normal',\n",
    "                            'Sobrepeso',\n",
    "                            'Obesidade grau I',\n",
    "                            'Obesidade grau II',\n",
    "                            'Obesidade grau III',\n",
    "                        ],\n",
    "                        right = True,\n",
    ")\n",
    "df.head()"
   ]
  },
  {
   "cell_type": "code",
   "execution_count": 23,
   "id": "83b9f00b",
   "metadata": {},
   "outputs": [
    {
     "data": {
      "text/plain": [
       "Faixa_IMC         \n",
       "Obesidade grau I      397\n",
       "Sobrepeso             380\n",
       "Obesidade grau II     226\n",
       "Peso normal           221\n",
       "Obesidade grau III     93\n",
       "Abaixo do peso         21\n",
       "Name: count, dtype: int64"
      ]
     },
     "execution_count": 23,
     "metadata": {},
     "output_type": "execute_result"
    }
   ],
   "source": [
    "df.value_counts(['Faixa_IMC'])"
   ]
  },
  {
   "cell_type": "markdown",
   "id": "aea87fee",
   "metadata": {},
   "source": [
    "# Análise Exploratória (EDA)"
   ]
  },
  {
   "cell_type": "markdown",
   "id": "f0317b5b",
   "metadata": {},
   "source": [
    "## Análise Univariada"
   ]
  },
  {
   "cell_type": "markdown",
   "id": "0acd1c17",
   "metadata": {},
   "source": [
    "### Variável - IMC"
   ]
  },
  {
   "cell_type": "code",
   "execution_count": 24,
   "id": "e75e517b",
   "metadata": {},
   "outputs": [
    {
     "data": {
      "image/png": "[encoded data removed]",
      "text/plain": [
       "<Figure size 1000x500 with 2 Axes>"
      ]
     },
     "metadata": {},
     "output_type": "display_data"
    }
   ],
   "source": [
    "sns.set(style=\"white\", palette=\"pastel\")\n",
    "\n",
    "# Criando a figura com o 1 linha e 2 colunas\n",
    "fig, axes = plt.subplots(1, 2, figsize=(10, 5))\n",
    "\n",
    "# Histograma do IMC\n",
    "\n",
    "sns.histplot(df['IMC'], bins=20, kde=True, ax=axes[0], color='skyblue')\n",
    "axes[0].set_title('Distribuição do IMC')\n",
    "axes[0].set_xlabel('IMC')\n",
    "axes[0].set_ylabel('Frequência')\n",
    "\n",
    "# Boxsplot do IMC\n",
    "\n",
    "sns.boxplot(y=df['IMC'], ax=axes[1], color='skyblue')\n",
    "axes[1].set_title('Boxsplot - IMC')\n",
    "axes[1].set_xlabel('IMC')\n",
    "axes[1].set_ylabel('')\n",
    "\n",
    "\n",
    "plt.tight_layout()\n",
    "plt.show()\n"
   ]
  },
  {
   "cell_type": "markdown",
   "id": "aba4a931",
   "metadata": {},
   "source": [
    "Para a variável IMC a distribuição dos valores da amostra se aproxima de uma distribuição normal\n",
    "\n",
    "Outliers acima de 45 anos"
   ]
  },
  {
   "cell_type": "markdown",
   "id": "d22b7e33",
   "metadata": {},
   "source": [
    "### Variável - Idade"
   ]
  },
  {
   "cell_type": "code",
   "execution_count": 25,
   "id": "ab35f294",
   "metadata": {},
   "outputs": [
    {
     "data": {
      "image/png": "[encoded data removed]",
      "text/plain": [
       "<Figure size 1000x500 with 2 Axes>"
      ]
     },
     "metadata": {},
     "output_type": "display_data"
    }
   ],
   "source": [
    "sns.set(style=\"white\", palette=\"pastel\")\n",
    "\n",
    "# Criando a figura com o 1 linha e 2 colunas\n",
    "fig, axes = plt.subplots(1, 2, figsize=(10, 5))\n",
    "\n",
    "# Histograma de Idade\n",
    "\n",
    "sns.histplot(df['Idade'], bins=20, kde=True, ax=axes[0], color='skyblue')\n",
    "axes[0].set_title('Distribuição de Idade')\n",
    "axes[0].set_xlabel('Idade')\n",
    "axes[0].set_ylabel('Frequência')\n",
    "\n",
    "# Boxsplot de Idade\n",
    "\n",
    "sns.boxplot(y=df['Idade'], ax=axes[1], color='skyblue')\n",
    "axes[1].set_title('Boxsplot - Idade')\n",
    "axes[1].set_xlabel('Idade')\n",
    "axes[1].set_ylabel('')\n",
    "\n",
    "\n",
    "plt.tight_layout()\n",
    "plt.show()\n"
   ]
  },
  {
   "cell_type": "markdown",
   "id": "3175c3c9",
   "metadata": {},
   "source": [
    "Na amostra a distribuição de idade está bem uniforme, com destaque com uma maioria de uma idade menor que 20 anos.\n",
    "\n",
    "Sem detecção de outliers"
   ]
  },
  {
   "cell_type": "markdown",
   "id": "8deca610",
   "metadata": {},
   "source": [
    "### Variável - Custo com saúde (Custo_Saude)"
   ]
  },
  {
   "cell_type": "code",
   "execution_count": 26,
   "id": "529500d1",
   "metadata": {},
   "outputs": [
    {
     "data": {
      "image/png": "[encoded data removed]",
      "text/plain": [
       "<Figure size 1000x500 with 2 Axes>"
      ]
     },
     "metadata": {},
     "output_type": "display_data"
    }
   ],
   "source": [
    "sns.set(style=\"white\", palette=\"pastel\")\n",
    "\n",
    "# Criando a figura com o 1 linha e 2 colunas\n",
    "fig, axes = plt.subplots(1, 2, figsize=(10, 5))\n",
    "\n",
    "# Histograma de Custo_Saude\n",
    "\n",
    "sns.histplot(df['Custo_Saude'], bins=20, kde=True, ax=axes[0], color='skyblue')\n",
    "axes[0].set_title('Distribuição de Custo_Saude')\n",
    "axes[0].set_xlabel('Custo_Saude')\n",
    "axes[0].set_ylabel('Frequência')\n",
    "\n",
    "# Boxsplot de Custo_Saude\n",
    "\n",
    "sns.boxplot(y=df['Custo_Saude'], ax=axes[1], color='skyblue')\n",
    "axes[1].set_title('Boxsplot - Custo_Saude')\n",
    "axes[1].set_xlabel('Custo_Saude')\n",
    "axes[1].set_ylabel('')\n",
    "\n",
    "\n",
    "plt.tight_layout()\n",
    "plt.show()\n"
   ]
  },
  {
   "cell_type": "markdown",
   "id": "2e1fa829",
   "metadata": {},
   "source": [
    "Concentração dos valores de custo até R$2.000,00\n",
    "\n",
    "Alguns Outliers a partir de R$3.000,00 "
   ]
  },
  {
   "cell_type": "markdown",
   "id": "0e838e8d",
   "metadata": {},
   "source": [
    "### Variável - Quantidade de Filhos (Qte_Filhos)"
   ]
  },
  {
   "cell_type": "code",
   "execution_count": 66,
   "id": "5784875c",
   "metadata": {},
   "outputs": [
    {
     "data": {
      "image/png": "[encoded data removed]",
      "text/plain": [
       "<Figure size 1000x500 with 2 Axes>"
      ]
     },
     "metadata": {},
     "output_type": "display_data"
    }
   ],
   "source": [
    "sns.set(style=\"white\", palette=\"pastel\")\n",
    "\n",
    "# Criando a figura com o 1 linha e 2 colunas\n",
    "fig, axes = plt.subplots(1, 2, figsize=(10, 5))\n",
    "\n",
    "# Histograma de Qte_Filhos\n",
    "\n",
    "sns.histplot(df['Qte_Filhos'], bins=10, kde=False, ax=axes[0], color='skyblue')\n",
    "axes[0].set_title('Distribuição de Qte_Filhos')\n",
    "axes[0].set_xlabel('Quantidade de Filhos')\n",
    "axes[0].set_ylabel('Frequência')\n",
    "\n",
    "# Boxsplot de Qte_Filhos\n",
    "\n",
    "sns.boxplot(y=df['Qte_Filhos'], ax=axes[1], color='skyblue')\n",
    "axes[1].set_title('Boxsplot - Qte_Filhos')\n",
    "axes[1].set_xlabel('Quantidade de Filhos')\n",
    "axes[1].set_ylabel('')\n",
    "\n",
    "\n",
    "plt.tight_layout()\n",
    "plt.show()\n"
   ]
  },
  {
   "cell_type": "markdown",
   "id": "ee5937d4",
   "metadata": {},
   "source": [
    "Criando uma função para o calculo da tabela de frequência para as variáveis qualitativas"
   ]
  },
  {
   "cell_type": "code",
   "execution_count": 35,
   "id": "fea93978",
   "metadata": {},
   "outputs": [],
   "source": [
    "def tabela_frequencia(df,coluna, ordem = None):\n",
    "    \"\"\"\n",
    "    Gera uma tabela de frequências absoluta, relativa e acumulada para uma coluna com variável qualitativa de um DataFrame.\n",
    "    Para uma variável qualitativa, com opção de definir a ordem\n",
    "    Parâmetros:\n",
    "    --- ---------\n",
    "    df: pd.DataFrame\n",
    "        DataFrame contendo os dados.\n",
    "    coluna : str\n",
    "        Nome da coluna(variável qualitativa) para ser analsiada\n",
    "    ordem : list, opcional\n",
    "        Ordem personalizada para os valores da variável qualitativa.\n",
    "\n",
    "    Retorna:\n",
    "    --- -------\n",
    "    pd.DataFrame\n",
    "        Tabela de frequências com colunas para frequência absoluta, relativa (%) e acumulada (%).\n",
    "    \"\"\"\n",
    "    #Frequências\n",
    "    freq_abs = df[coluna].value_counts()\n",
    "    freq_relativa = (df[coluna].value_counts(normalize=True) * 100).round(2)\n",
    "\n",
    "    #Montando a tabela inicial\n",
    "    tabela_frequencias = pd.DataFrame({\n",
    "        'Frequência Absoluta': freq_abs,\n",
    "        'Frequência Relativa (%)': freq_relativa\n",
    "    })\n",
    "    if ordem is not None:\n",
    "        tabela_frequencias = tabela_frequencias.reindex(ordem)\n",
    "    \n",
    "    #Recalculando a frequencia acumulada com base na nova ordem\n",
    "    tabela_frequencias['Frequência Acumulada (%)'] = tabela_frequencias['Frequência Relativa (%)'].cumsum().round(2)\n",
    "\n",
    "    #Definindo o nome do índice\n",
    "    tabela_frequencias.index.name = coluna\n",
    "\n",
    "    return tabela_frequencias"
   ]
  },
  {
   "cell_type": "markdown",
   "id": "5defed37",
   "metadata": {},
   "source": [
    "### Variável - Fumante"
   ]
  },
  {
   "cell_type": "code",
   "execution_count": 36,
   "id": "05541397",
   "metadata": {},
   "outputs": [
    {
     "data": {
      "text/html": [
       "<div>\n",
       "<style scoped>\n",
       "    .dataframe tbody tr th:only-of-type {\n",
       "        vertical-align: middle;\n",
       "    }\n",
       "\n",
       "    .dataframe tbody tr th {\n",
       "        vertical-align: top;\n",
       "    }\n",
       "\n",
       "    .dataframe thead th {\n",
       "        text-align: right;\n",
       "    }\n",
       "</style>\n",
       "<table border=\"1\" class=\"dataframe\">\n",
       "  <thead>\n",
       "    <tr style=\"text-align: right;\">\n",
       "      <th></th>\n",
       "      <th>Frequência Absoluta</th>\n",
       "      <th>Frequência Relativa (%)</th>\n",
       "      <th>Frequência Acumulada (%)</th>\n",
       "    </tr>\n",
       "    <tr>\n",
       "      <th>Fumante</th>\n",
       "      <th></th>\n",
       "      <th></th>\n",
       "      <th></th>\n",
       "    </tr>\n",
       "  </thead>\n",
       "  <tbody>\n",
       "    <tr>\n",
       "      <th>Não</th>\n",
       "      <td>1064</td>\n",
       "      <td>79.52</td>\n",
       "      <td>79.52</td>\n",
       "    </tr>\n",
       "    <tr>\n",
       "      <th>Sim</th>\n",
       "      <td>274</td>\n",
       "      <td>20.48</td>\n",
       "      <td>100.00</td>\n",
       "    </tr>\n",
       "  </tbody>\n",
       "</table>\n",
       "</div>"
      ],
      "text/plain": [
       "         Frequência Absoluta  Frequência Relativa (%)  \\\n",
       "Fumante                                                 \n",
       "Não                     1064                    79.52   \n",
       "Sim                      274                    20.48   \n",
       "\n",
       "         Frequência Acumulada (%)  \n",
       "Fumante                            \n",
       "Não                         79.52  \n",
       "Sim                        100.00  "
      ]
     },
     "execution_count": 36,
     "metadata": {},
     "output_type": "execute_result"
    }
   ],
   "source": [
    "tabela_frequencia(df, 'Fumante')"
   ]
  },
  {
   "cell_type": "markdown",
   "id": "20533d42",
   "metadata": {},
   "source": [
    "80% São fumantes, 20% não"
   ]
  },
  {
   "cell_type": "code",
   "execution_count": 37,
   "id": "ad2926aa",
   "metadata": {},
   "outputs": [
    {
     "data": {
      "text/html": [
       "<div>\n",
       "<style scoped>\n",
       "    .dataframe tbody tr th:only-of-type {\n",
       "        vertical-align: middle;\n",
       "    }\n",
       "\n",
       "    .dataframe tbody tr th {\n",
       "        vertical-align: top;\n",
       "    }\n",
       "\n",
       "    .dataframe thead th {\n",
       "        text-align: right;\n",
       "    }\n",
       "</style>\n",
       "<table border=\"1\" class=\"dataframe\">\n",
       "  <thead>\n",
       "    <tr style=\"text-align: right;\">\n",
       "      <th></th>\n",
       "      <th>Frequência Absoluta</th>\n",
       "      <th>Frequência Relativa (%)</th>\n",
       "      <th>Frequência Acumulada (%)</th>\n",
       "    </tr>\n",
       "    <tr>\n",
       "      <th>Região</th>\n",
       "      <th></th>\n",
       "      <th></th>\n",
       "      <th></th>\n",
       "    </tr>\n",
       "  </thead>\n",
       "  <tbody>\n",
       "    <tr>\n",
       "      <th>Sudeste</th>\n",
       "      <td>364</td>\n",
       "      <td>27.20</td>\n",
       "      <td>27.20</td>\n",
       "    </tr>\n",
       "    <tr>\n",
       "      <th>Centro</th>\n",
       "      <td>325</td>\n",
       "      <td>24.29</td>\n",
       "      <td>51.49</td>\n",
       "    </tr>\n",
       "    <tr>\n",
       "      <th>Norte</th>\n",
       "      <td>325</td>\n",
       "      <td>24.29</td>\n",
       "      <td>75.78</td>\n",
       "    </tr>\n",
       "    <tr>\n",
       "      <th>Nordeste</th>\n",
       "      <td>324</td>\n",
       "      <td>24.22</td>\n",
       "      <td>100.00</td>\n",
       "    </tr>\n",
       "  </tbody>\n",
       "</table>\n",
       "</div>"
      ],
      "text/plain": [
       "          Frequência Absoluta  Frequência Relativa (%)  \\\n",
       "Região                                                   \n",
       "Sudeste                   364                    27.20   \n",
       "Centro                    325                    24.29   \n",
       "Norte                     325                    24.29   \n",
       "Nordeste                  324                    24.22   \n",
       "\n",
       "          Frequência Acumulada (%)  \n",
       "Região                              \n",
       "Sudeste                      27.20  \n",
       "Centro                       51.49  \n",
       "Norte                        75.78  \n",
       "Nordeste                    100.00  "
      ]
     },
     "execution_count": 37,
     "metadata": {},
     "output_type": "execute_result"
    }
   ],
   "source": [
    "tabela_frequencia(df, 'Região')"
   ]
  },
  {
   "cell_type": "markdown",
   "id": "79e2c212",
   "metadata": {},
   "source": [
    "Bem equilibrado a distribuição da região."
   ]
  },
  {
   "cell_type": "markdown",
   "id": "8978531e",
   "metadata": {},
   "source": [
    "### Variável - Sexo"
   ]
  },
  {
   "cell_type": "code",
   "execution_count": 38,
   "id": "db69a46e",
   "metadata": {},
   "outputs": [
    {
     "data": {
      "text/html": [
       "<div>\n",
       "<style scoped>\n",
       "    .dataframe tbody tr th:only-of-type {\n",
       "        vertical-align: middle;\n",
       "    }\n",
       "\n",
       "    .dataframe tbody tr th {\n",
       "        vertical-align: top;\n",
       "    }\n",
       "\n",
       "    .dataframe thead th {\n",
       "        text-align: right;\n",
       "    }\n",
       "</style>\n",
       "<table border=\"1\" class=\"dataframe\">\n",
       "  <thead>\n",
       "    <tr style=\"text-align: right;\">\n",
       "      <th></th>\n",
       "      <th>Frequência Absoluta</th>\n",
       "      <th>Frequência Relativa (%)</th>\n",
       "      <th>Frequência Acumulada (%)</th>\n",
       "    </tr>\n",
       "    <tr>\n",
       "      <th>Sexo</th>\n",
       "      <th></th>\n",
       "      <th></th>\n",
       "      <th></th>\n",
       "    </tr>\n",
       "  </thead>\n",
       "  <tbody>\n",
       "    <tr>\n",
       "      <th>Masculino</th>\n",
       "      <td>676</td>\n",
       "      <td>50.52</td>\n",
       "      <td>50.52</td>\n",
       "    </tr>\n",
       "    <tr>\n",
       "      <th>Feminino</th>\n",
       "      <td>662</td>\n",
       "      <td>49.48</td>\n",
       "      <td>100.00</td>\n",
       "    </tr>\n",
       "  </tbody>\n",
       "</table>\n",
       "</div>"
      ],
      "text/plain": [
       "           Frequência Absoluta  Frequência Relativa (%)  \\\n",
       "Sexo                                                      \n",
       "Masculino                  676                    50.52   \n",
       "Feminino                   662                    49.48   \n",
       "\n",
       "           Frequência Acumulada (%)  \n",
       "Sexo                                 \n",
       "Masculino                     50.52  \n",
       "Feminino                     100.00  "
      ]
     },
     "execution_count": 38,
     "metadata": {},
     "output_type": "execute_result"
    }
   ],
   "source": [
    "tabela_frequencia(df, 'Sexo')"
   ]
  },
  {
   "cell_type": "code",
   "execution_count": null,
   "id": "b2070d1a",
   "metadata": {},
   "outputs": [],
   "source": [
    "sns.set(style=\"white\", palette=\"pastel\")\n",
    "\n",
    "# Tabela de frequências da variável Faixa_IMC\n",
    "tabela_sexo = tabela_frequencia(df, 'Faixa_IMC', ordem = ordem_faixa_imc)\n",
    "tabela_sexo = tabela_imc.reset_index()\n",
    "\n",
    "# Gráfico de barras da variável Faixa_IMC\n",
    "plt.figure(figsize=(8, 5))\n",
    "sns.barplot(\n",
    "    data = tabela_imc,\n",
    "    x = 'Faixa_IMC',\n",
    "    y = 'Frequência Absoluta',\n",
    "    order = ordem_faixa_imc,\n",
    "    color = 'skyblue',\n",
    ")\n",
    "\n",
    "# Personalizações do gráfico\n",
    "plt.title('Faixa de IMC dos Colaboradores')\n",
    "plt.xlabel('')\n",
    "plt.ylabel('Frequência Absoluta')\n",
    "plt.xticks(rotation=45)\n",
    "plt.grid(axis='y', linestyle='--', alpha=0.3)\n",
    "\n",
    "# Limite do eixo Y para melhor visualização\n",
    "max_y = tabela_imc['Frequência Absoluta'].max()\n",
    "plt.ylim(0, max_y + 50)\n",
    "\n",
    "# Valores das barras\n",
    "for index, row in tabela_imc.iterrows():\n",
    "    plt.text(index, row['Frequência Absoluta'], row['Frequência Absoluta'], color='black', ha=\"center\", va=\"bottom\")\n",
    "plt.tight_layout()\n",
    "plt.show()"
   ]
  },
  {
   "cell_type": "markdown",
   "id": "bf8c40ac",
   "metadata": {},
   "source": [
    "Bem equilibrado a distribuição de sexo"
   ]
  },
  {
   "cell_type": "markdown",
   "id": "d58c6987",
   "metadata": {},
   "source": [
    "### Variável - Faixa de IMC"
   ]
  },
  {
   "cell_type": "code",
   "execution_count": 39,
   "id": "567b5eb3",
   "metadata": {},
   "outputs": [
    {
     "data": {
      "text/html": [
       "<div>\n",
       "<style scoped>\n",
       "    .dataframe tbody tr th:only-of-type {\n",
       "        vertical-align: middle;\n",
       "    }\n",
       "\n",
       "    .dataframe tbody tr th {\n",
       "        vertical-align: top;\n",
       "    }\n",
       "\n",
       "    .dataframe thead th {\n",
       "        text-align: right;\n",
       "    }\n",
       "</style>\n",
       "<table border=\"1\" class=\"dataframe\">\n",
       "  <thead>\n",
       "    <tr style=\"text-align: right;\">\n",
       "      <th></th>\n",
       "      <th>Frequência Absoluta</th>\n",
       "      <th>Frequência Relativa (%)</th>\n",
       "      <th>Frequência Acumulada (%)</th>\n",
       "    </tr>\n",
       "    <tr>\n",
       "      <th>Faixa_IMC</th>\n",
       "      <th></th>\n",
       "      <th></th>\n",
       "      <th></th>\n",
       "    </tr>\n",
       "  </thead>\n",
       "  <tbody>\n",
       "    <tr>\n",
       "      <th>Abaixo do peso</th>\n",
       "      <td>21</td>\n",
       "      <td>1.57</td>\n",
       "      <td>1.57</td>\n",
       "    </tr>\n",
       "    <tr>\n",
       "      <th>Peso normal</th>\n",
       "      <td>221</td>\n",
       "      <td>16.52</td>\n",
       "      <td>18.09</td>\n",
       "    </tr>\n",
       "    <tr>\n",
       "      <th>Sobrepeso</th>\n",
       "      <td>380</td>\n",
       "      <td>28.40</td>\n",
       "      <td>46.49</td>\n",
       "    </tr>\n",
       "    <tr>\n",
       "      <th>Obesidade grau I</th>\n",
       "      <td>397</td>\n",
       "      <td>29.67</td>\n",
       "      <td>76.16</td>\n",
       "    </tr>\n",
       "    <tr>\n",
       "      <th>Obesidade grau II</th>\n",
       "      <td>226</td>\n",
       "      <td>16.89</td>\n",
       "      <td>93.05</td>\n",
       "    </tr>\n",
       "    <tr>\n",
       "      <th>Obesidade grau III</th>\n",
       "      <td>93</td>\n",
       "      <td>6.95</td>\n",
       "      <td>100.00</td>\n",
       "    </tr>\n",
       "  </tbody>\n",
       "</table>\n",
       "</div>"
      ],
      "text/plain": [
       "                    Frequência Absoluta  Frequência Relativa (%)  \\\n",
       "Faixa_IMC                                                          \n",
       "Abaixo do peso                       21                     1.57   \n",
       "Peso normal                         221                    16.52   \n",
       "Sobrepeso                           380                    28.40   \n",
       "Obesidade grau I                    397                    29.67   \n",
       "Obesidade grau II                   226                    16.89   \n",
       "Obesidade grau III                   93                     6.95   \n",
       "\n",
       "                    Frequência Acumulada (%)  \n",
       "Faixa_IMC                                     \n",
       "Abaixo do peso                          1.57  \n",
       "Peso normal                            18.09  \n",
       "Sobrepeso                              46.49  \n",
       "Obesidade grau I                       76.16  \n",
       "Obesidade grau II                      93.05  \n",
       "Obesidade grau III                    100.00  "
      ]
     },
     "execution_count": 39,
     "metadata": {},
     "output_type": "execute_result"
    }
   ],
   "source": [
    "ordem_faixa_imc = [\n",
    "    'Abaixo do peso',\n",
    "    'Peso normal',\n",
    "    'Sobrepeso',\n",
    "    'Obesidade grau I',\n",
    "    'Obesidade grau II',\n",
    "    'Obesidade grau III',\n",
    "]\n",
    "tabela_frequencia(df, 'Faixa_IMC', ordem = ordem_faixa_imc)"
   ]
  },
  {
   "cell_type": "code",
   "execution_count": 84,
   "id": "7e70ce84",
   "metadata": {},
   "outputs": [
    {
     "data": {
      "image/png": "[encoded data removed]",
      "text/plain": [
       "<Figure size 800x500 with 1 Axes>"
      ]
     },
     "metadata": {},
     "output_type": "display_data"
    }
   ],
   "source": [
    "sns.set(style=\"white\", palette=\"pastel\")\n",
    "\n",
    "# Tabela de frequências da variável Faixa_IMC\n",
    "tabela_imc = tabela_frequencia(df, 'Faixa_IMC', ordem = ordem_faixa_imc)\n",
    "tabela_imc = tabela_imc.reset_index()\n",
    "\n",
    "# Gráfico de barras da variável Faixa_IMC\n",
    "plt.figure(figsize=(8, 5))\n",
    "sns.barplot(\n",
    "    data = tabela_imc,\n",
    "    x = 'Faixa_IMC',\n",
    "    y = 'Frequência Absoluta',\n",
    "    order = ordem_faixa_imc,\n",
    "    color = 'skyblue',\n",
    ")\n",
    "\n",
    "# Personalizações do gráfico\n",
    "plt.title('Faixa de IMC dos Colaboradores')\n",
    "plt.xlabel('')\n",
    "plt.ylabel('Frequência Absoluta')\n",
    "plt.xticks(rotation=45)\n",
    "plt.grid(axis='y', linestyle='--', alpha=0.3)\n",
    "\n",
    "# Limite do eixo Y para melhor visualização\n",
    "max_y = tabela_imc['Frequência Absoluta'].max()\n",
    "plt.ylim(0, max_y + 50)\n",
    "\n",
    "# Valores das barras\n",
    "for index, row in tabela_imc.iterrows():\n",
    "    plt.text(index, row['Frequência Absoluta'], row['Frequência Absoluta'], color='black', ha=\"center\", va=\"bottom\")\n",
    "plt.tight_layout()\n",
    "plt.show()"
   ]
  },
  {
   "cell_type": "code",
   "execution_count": 83,
   "id": "ea34f0bc",
   "metadata": {},
   "outputs": [
    {
     "data": {
      "image/png": "[encoded data removed]",
      "text/plain": [
       "<Figure size 800x500 with 2 Axes>"
      ]
     },
     "metadata": {},
     "output_type": "display_data"
    }
   ],
   "source": [
    "sns.set(style=\"white\", palette=\"pastel\")\n",
    "\n",
    "# Gera a tabela de frequências com ordem personalizada\n",
    "tabela_imc = tabela_frequencia(df, 'Faixa_IMC', ordem=ordem_faixa_imc)\n",
    "tabela_imc = tabela_imc.reset_index()\n",
    "\n",
    "# Cria figura e eixo principal\n",
    "fig, ax1 = plt.subplots(figsize=(8,5))\n",
    "\n",
    "# Gráfico de barras (frequência absoluta)\n",
    "sns.barplot(\n",
    "    data=tabela_imc,\n",
    "    x='Faixa_IMC',\n",
    "    y='Frequência Absoluta',\n",
    "    color='skyblue',\n",
    "    ax=ax1\n",
    ")\n",
    "\n",
    "# Eixo esquerdo\n",
    "ax1.set_title('Gráfico de Pareto - Faixa de IMC dos Colaboradores', fontsize=13, fontweight='bold')\n",
    "ax1.set_xlabel('Faixa de IMC')\n",
    "ax1.set_ylabel('Frequência Absoluta', color='black')\n",
    "ax1.tick_params(axis='x', rotation=30)\n",
    "ax1.grid(axis='y', linestyle='--', alpha=0.5)\n",
    "\n",
    "# Adiciona segundo eixo (frequência acumulada %)\n",
    "ax2 = ax1.twinx()\n",
    "ax2.plot(\n",
    "    tabela_imc['Faixa_IMC'],\n",
    "    tabela_imc['Frequência Acumulada (%)'],\n",
    "    color='red',\n",
    "    marker='o',\n",
    "    linewidth=2\n",
    ")\n",
    "ax2.set_ylabel('Frequência Acumulada (%)', color='red')\n",
    "ax2.set_ylim(0, 110)\n",
    "ax2.tick_params(axis='y', colors='red')\n",
    "\n",
    "# Mostrar valores no gráfico\n",
    "for i, valor in enumerate(tabela_imc['Frequência Absoluta']):\n",
    "    ax1.text(i, valor + 10, f\"{valor}\", ha='center', va='bottom')\n",
    "\n",
    "for i, valor in enumerate(tabela_imc['Frequência Acumulada (%)']):\n",
    "    ax2.text(i, valor + 2, f\"{valor:.1f}%\", color='red', ha='center')\n",
    "\n",
    "plt.tight_layout()\n",
    "plt.show()\n"
   ]
  },
  {
   "cell_type": "code",
   "execution_count": null,
   "id": "ba07284f",
   "metadata": {},
   "outputs": [],
   "source": []
  }
 ],
 "metadata": {
  "kernelspec": {
   "display_name": "Python 3",
   "language": "python",
   "name": "python3"
  },
  "language_info": {
   "codemirror_mode": {
    "name": "ipython",
    "version": 3
   },
   "file_extension": ".py",
   "mimetype": "text/x-python",
   "name": "python",
   "nbconvert_exporter": "python",
   "pygments_lexer": "ipython3",
   "version": "3.11.3"
  }
 },
 "nbformat": 4,
 "nbformat_minor": 5
}
